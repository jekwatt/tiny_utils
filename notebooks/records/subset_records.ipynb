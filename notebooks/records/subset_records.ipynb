{
 "cells": [
  {
   "cell_type": "markdown",
   "metadata": {},
   "source": [
    "### Records"
   ]
  },
  {
   "cell_type": "code",
   "execution_count": null,
   "metadata": {},
   "outputs": [],
   "source": [
    "REPORT_FIELDS = [\"record_id\", \"Pt_ST\", \"Pt_Zip\"]"
   ]
  },
  {
   "cell_type": "code",
   "execution_count": null,
   "metadata": {},
   "outputs": [],
   "source": [
    "records = [\n",
    "    {\"record_id\": \"01\", 'Pt_ST': 'TX','Pt_Zip': '75741', 'Pt_County': 'harris'},\n",
    "    {\"record_id\": \"02\",'Pt_ST': 'TX','Pt_Zip': '75742', 'Pt_County': 'Harris'},\n",
    "    {\"record_id\": \"03\", 'Pt_ST': 'TN','Pt_Zip': '75743', 'Pt_County': 'Unknown'},\n",
    "    {\"record_id\": \"04\", 'Pt_ST': 'Unown','Pt_Zip': '75744', 'Pt_County': 'Unknown'},\n",
    "]"
   ]
  },
  {
   "cell_type": "code",
   "execution_count": null,
   "metadata": {},
   "outputs": [],
   "source": [
    "records"
   ]
  },
  {
   "cell_type": "markdown",
   "metadata": {},
   "source": [
    "### Partition"
   ]
  },
  {
   "cell_type": "code",
   "execution_count": null,
   "metadata": {},
   "outputs": [],
   "source": [
    "def partition_by_tx_non_tx(records):\n",
    "    \"\"\"\n",
    "    Return tx_only, non_tx\n",
    "    \"\"\"\n",
    "    tx_only = [r for r in records if r[\"Pt_ST\"] == \"TX\"]\n",
    "    non_tx = [r for r in records if r[\"Pt_ST\"] != \"TX\"]\n",
    "    return tx_only, non_tx"
   ]
  },
  {
   "cell_type": "code",
   "execution_count": null,
   "metadata": {},
   "outputs": [],
   "source": [
    "tx_only, non_tx = partition_by_tx_non_tx(records)"
   ]
  },
  {
   "cell_type": "code",
   "execution_count": null,
   "metadata": {},
   "outputs": [],
   "source": [
    "tx_only"
   ]
  },
  {
   "cell_type": "code",
   "execution_count": null,
   "metadata": {},
   "outputs": [],
   "source": [
    "tx_only[0].keys()"
   ]
  },
  {
   "cell_type": "markdown",
   "metadata": {},
   "source": [
    "### Subset "
   ]
  },
  {
   "cell_type": "code",
   "execution_count": null,
   "metadata": {},
   "outputs": [],
   "source": [
    "# python-filter-list-of-dictionaries-based-on-multiple-keys"
   ]
  },
  {
   "cell_type": "code",
   "execution_count": null,
   "metadata": {},
   "outputs": [],
   "source": [
    "def subset(records, report_fields):\n",
    "    subset_records = [\n",
    "        {k: v for k, v in i.items() if k in report_fields}\n",
    "        for i in records\n",
    "    ]\n",
    "    return subset_records"
   ]
  },
  {
   "cell_type": "code",
   "execution_count": null,
   "metadata": {},
   "outputs": [],
   "source": [
    "dshs_tx_only = subset(tx_only, REPORT_FIELDS)"
   ]
  },
  {
   "cell_type": "code",
   "execution_count": null,
   "metadata": {},
   "outputs": [],
   "source": [
    "dshs_tx_only"
   ]
  },
  {
   "cell_type": "code",
   "execution_count": null,
   "metadata": {},
   "outputs": [],
   "source": []
  }
 ],
 "metadata": {
  "kernelspec": {
   "display_name": "Python 3",
   "language": "python",
   "name": "python3"
  },
  "language_info": {
   "codemirror_mode": {
    "name": "ipython",
    "version": 3
   },
   "file_extension": ".py",
   "mimetype": "text/x-python",
   "name": "python",
   "nbconvert_exporter": "python",
   "pygments_lexer": "ipython3",
   "version": "3.8.4"
  }
 },
 "nbformat": 4,
 "nbformat_minor": 4
}
